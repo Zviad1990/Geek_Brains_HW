{
 "cells": [
  {
   "cell_type": "markdown",
   "metadata": {},
   "source": [
    "# Вебинар 6. Двухуровневые модели рекомендаций\n"
   ]
  },
  {
   "cell_type": "markdown",
   "metadata": {},
   "source": [
    "Код для src, utils, metrics вы можете скачать из [этого](https://github.com/geangohn/recsys-tutorial) github репозитория"
   ]
  },
  {
   "cell_type": "code",
   "execution_count": 1,
   "metadata": {},
   "outputs": [
    {
     "name": "stderr",
     "output_type": "stream",
     "text": [
      "D:\\anacondaz\\lib\\site-packages\\numpy\\_distributor_init.py:32: UserWarning: loaded more than 1 DLL from .libs:\n",
      "D:\\anacondaz\\lib\\site-packages\\numpy\\.libs\\libopenblas.NOIJJG62EMASZI6NYURL6JBKM4EVBGM7.gfortran-win_amd64.dll\n",
      "D:\\anacondaz\\lib\\site-packages\\numpy\\.libs\\libopenblas.PYQHXLVVQ7VESDPUVUADXEVJOBGHJPAY.gfortran-win_amd64.dll\n",
      "  stacklevel=1)\n"
     ]
    }
   ],
   "source": [
    "%load_ext autoreload\n",
    "import pandas as pd\n",
    "import numpy as np\n",
    "import matplotlib.pyplot as plt\n",
    "%matplotlib inline\n",
    "\n",
    "# Для работы с матрицами\n",
    "from scipy.sparse import csr_matrix\n",
    "\n",
    "# Матричная факторизация\n",
    "from implicit import als\n",
    "\n",
    "# Модель второго уровня\n",
    "from lightgbm import LGBMClassifier\n",
    "\n",
    "import os, sys\n",
    "module_path = os.path.abspath(os.path.join(os.pardir))\n",
    "if module_path not in sys.path:\n",
    "    sys.path.append(module_path)\n",
    "\n",
    "# Написанные нами функции\n",
    "from src.metrics import precision_at_k, recall_at_k\n",
    "from src.utils import prefilter_items\n",
    "from src.recommenders import MainRecommender"
   ]
  },
  {
   "cell_type": "code",
   "execution_count": 2,
   "metadata": {},
   "outputs": [
    {
     "data": {
      "text/html": [
       "<div>\n",
       "<style scoped>\n",
       "    .dataframe tbody tr th:only-of-type {\n",
       "        vertical-align: middle;\n",
       "    }\n",
       "\n",
       "    .dataframe tbody tr th {\n",
       "        vertical-align: top;\n",
       "    }\n",
       "\n",
       "    .dataframe thead th {\n",
       "        text-align: right;\n",
       "    }\n",
       "</style>\n",
       "<table border=\"1\" class=\"dataframe\">\n",
       "  <thead>\n",
       "    <tr style=\"text-align: right;\">\n",
       "      <th></th>\n",
       "      <th>user_id</th>\n",
       "      <th>basket_id</th>\n",
       "      <th>day</th>\n",
       "      <th>item_id</th>\n",
       "      <th>quantity</th>\n",
       "      <th>sales_value</th>\n",
       "      <th>store_id</th>\n",
       "      <th>retail_disc</th>\n",
       "      <th>trans_time</th>\n",
       "      <th>week_no</th>\n",
       "      <th>coupon_disc</th>\n",
       "      <th>coupon_match_disc</th>\n",
       "    </tr>\n",
       "  </thead>\n",
       "  <tbody>\n",
       "    <tr>\n",
       "      <th>0</th>\n",
       "      <td>2375</td>\n",
       "      <td>26984851472</td>\n",
       "      <td>1</td>\n",
       "      <td>1004906</td>\n",
       "      <td>1</td>\n",
       "      <td>1.39</td>\n",
       "      <td>364</td>\n",
       "      <td>-0.6</td>\n",
       "      <td>1631</td>\n",
       "      <td>1</td>\n",
       "      <td>0.0</td>\n",
       "      <td>0.0</td>\n",
       "    </tr>\n",
       "    <tr>\n",
       "      <th>1</th>\n",
       "      <td>2375</td>\n",
       "      <td>26984851472</td>\n",
       "      <td>1</td>\n",
       "      <td>1033142</td>\n",
       "      <td>1</td>\n",
       "      <td>0.82</td>\n",
       "      <td>364</td>\n",
       "      <td>0.0</td>\n",
       "      <td>1631</td>\n",
       "      <td>1</td>\n",
       "      <td>0.0</td>\n",
       "      <td>0.0</td>\n",
       "    </tr>\n",
       "  </tbody>\n",
       "</table>\n",
       "</div>"
      ],
      "text/plain": [
       "   user_id    basket_id  day  item_id  quantity  sales_value  store_id  \\\n",
       "0     2375  26984851472    1  1004906         1         1.39       364   \n",
       "1     2375  26984851472    1  1033142         1         0.82       364   \n",
       "\n",
       "   retail_disc  trans_time  week_no  coupon_disc  coupon_match_disc  \n",
       "0         -0.6        1631        1          0.0                0.0  \n",
       "1          0.0        1631        1          0.0                0.0  "
      ]
     },
     "execution_count": 2,
     "metadata": {},
     "output_type": "execute_result"
    }
   ],
   "source": [
    "data = pd.read_csv('../data/retail_train.csv')\n",
    "item_features = pd.read_csv('../data/product.csv')\n",
    "user_features = pd.read_csv('../data/hh_demographic.csv')\n",
    "\n",
    "# column processing\n",
    "item_features.columns = [col.lower() for col in item_features.columns]\n",
    "user_features.columns = [col.lower() for col in user_features.columns]\n",
    "\n",
    "item_features.rename(columns={'product_id': 'item_id'}, inplace=True)\n",
    "user_features.rename(columns={'household_key': 'user_id'}, inplace=True)\n",
    "\n",
    "\n",
    "# Важна схема обучения и валидации!\n",
    "# -- давние покупки -- | -- 6 недель -- | -- 3 недель -- \n",
    "# подобрать размер 2-ого датасета (6 недель) --> learning curve (зависимость метрики recall@k от размера датасета)\n",
    "val_lvl_1_size_weeks = 6\n",
    "val_lvl_2_size_weeks = 3\n",
    "\n",
    "data_train_lvl_1 = data[data['week_no'] < data['week_no'].max() - (val_lvl_1_size_weeks + val_lvl_2_size_weeks)]\n",
    "data_val_lvl_1 = data[(data['week_no'] >= data['week_no'].max() - (val_lvl_1_size_weeks + val_lvl_2_size_weeks)) &\n",
    "                      (data['week_no'] < data['week_no'].max() - (val_lvl_2_size_weeks))]\n",
    "\n",
    "data_train_lvl_2 = data_val_lvl_1.copy()  # Для наглядности. Далее мы добавим изменения, и они будут отличаться\n",
    "data_val_lvl_2 = data[data['week_no'] >= data['week_no'].max() - val_lvl_2_size_weeks]\n",
    "\n",
    "data_train_lvl_1.head(2)"
   ]
  },
  {
   "cell_type": "code",
   "execution_count": 3,
   "metadata": {},
   "outputs": [
    {
     "name": "stdout",
     "output_type": "stream",
     "text": [
      "Decreased # items from 83685 to 5001\n"
     ]
    }
   ],
   "source": [
    "n_items_before = data_train_lvl_1['item_id'].nunique()\n",
    "\n",
    "data_train_lvl_1 = prefilter_items(data_train_lvl_1, item_features=item_features, take_n_popular=5000)\n",
    "\n",
    "n_items_after = data_train_lvl_1['item_id'].nunique()\n",
    "print('Decreased # items from {} to {}'.format(n_items_before, n_items_after))"
   ]
  },
  {
   "cell_type": "code",
   "execution_count": 4,
   "metadata": {},
   "outputs": [
    {
     "name": "stderr",
     "output_type": "stream",
     "text": [
      "WARNING:root:OpenBLAS detected. Its highly recommend to set the environment variable 'export OPENBLAS_NUM_THREADS=1' to disable its internal multithreading\n"
     ]
    },
    {
     "data": {
      "application/vnd.jupyter.widget-view+json": {
       "model_id": "a4d4285939f144a991e4507c345488cf",
       "version_major": 2,
       "version_minor": 0
      },
      "text/plain": [
       "HBox(children=(IntProgress(value=0, max=15), HTML(value='')))"
      ]
     },
     "metadata": {},
     "output_type": "display_data"
    },
    {
     "name": "stdout",
     "output_type": "stream",
     "text": [
      "\n"
     ]
    },
    {
     "data": {
      "application/vnd.jupyter.widget-view+json": {
       "model_id": "b844773096e449adb33f52c06346dafd",
       "version_major": 2,
       "version_minor": 0
      },
      "text/plain": [
       "HBox(children=(IntProgress(value=0, max=5001), HTML(value='')))"
      ]
     },
     "metadata": {},
     "output_type": "display_data"
    },
    {
     "name": "stdout",
     "output_type": "stream",
     "text": [
      "\n"
     ]
    }
   ],
   "source": [
    "recommender = MainRecommender(data_train_lvl_1)"
   ]
  },
  {
   "cell_type": "code",
   "execution_count": 5,
   "metadata": {},
   "outputs": [
    {
     "data": {
      "text/plain": [
       "[871756,\n",
       " 1106523,\n",
       " 1044078,\n",
       " 844179,\n",
       " 899624,\n",
       " 832678,\n",
       " 8090537,\n",
       " 1000753,\n",
       " 12262978,\n",
       " 965267,\n",
       " 5569230,\n",
       " 1081177,\n",
       " 5585510,\n",
       " 999714,\n",
       " 8090521,\n",
       " 863447,\n",
       " 1022428,\n",
       " 835300,\n",
       " 925862,\n",
       " 947858,\n",
       " 883932,\n",
       " 854852,\n",
       " 823990,\n",
       " 1046545,\n",
       " 1004906,\n",
       " 865456,\n",
       " 963727,\n",
       " 850102,\n",
       " 841220,\n",
       " 896613,\n",
       " 12301839,\n",
       " 944534,\n",
       " 865528,\n",
       " 8090509,\n",
       " 1051323,\n",
       " 835530,\n",
       " 903609,\n",
       " 1025535,\n",
       " 1037863,\n",
       " 857006,\n",
       " 1029743,\n",
       " 1116376,\n",
       " 866211,\n",
       " 6534480,\n",
       " 5569845,\n",
       " 847962,\n",
       " 828106,\n",
       " 930283,\n",
       " 1068292,\n",
       " 9835223,\n",
       " 1132771,\n",
       " 847790,\n",
       " 6534077,\n",
       " 861279,\n",
       " 998239,\n",
       " 1100972,\n",
       " 1107420,\n",
       " 880150,\n",
       " 8090539,\n",
       " 9836106,\n",
       " 1123146,\n",
       " 5568378,\n",
       " 999779,\n",
       " 1070702,\n",
       " 1062572,\n",
       " 845208,\n",
       " 952163,\n",
       " 1134678,\n",
       " 1003616,\n",
       " 823704,\n",
       " 1090931,\n",
       " 989069,\n",
       " 836445,\n",
       " 6463729,\n",
       " 895166,\n",
       " 12262778,\n",
       " 9835606,\n",
       " 878996,\n",
       " 965766,\n",
       " 12302069,\n",
       " 972143,\n",
       " 1059473,\n",
       " 910032,\n",
       " 1037337,\n",
       " 986912,\n",
       " 879504,\n",
       " 1004390,\n",
       " 1103691,\n",
       " 977658,\n",
       " 858514,\n",
       " 1097458,\n",
       " 1104349,\n",
       " 5568197,\n",
       " 1065860,\n",
       " 15926886,\n",
       " 1082185,\n",
       " 1068719,\n",
       " 850925,\n",
       " 993638,\n",
       " 1021324,\n",
       " 874972,\n",
       " 8065410,\n",
       " 1102207,\n",
       " 5570048,\n",
       " 1113111,\n",
       " 958382,\n",
       " 870547,\n",
       " 937292,\n",
       " 12731432,\n",
       " 940090,\n",
       " 837304,\n",
       " 892503,\n",
       " 902172,\n",
       " 827919,\n",
       " 966348,\n",
       " 1102879,\n",
       " 929768,\n",
       " 862799,\n",
       " 1072523,\n",
       " 938138,\n",
       " 948650,\n",
       " 7441873,\n",
       " 12731544,\n",
       " 917384,\n",
       " 934639,\n",
       " 848029,\n",
       " 835098,\n",
       " 1038663,\n",
       " 12731714,\n",
       " 1059902,\n",
       " 912147,\n",
       " 8203710,\n",
       " 1012587,\n",
       " 949965,\n",
       " 1121360,\n",
       " 845914,\n",
       " 890739,\n",
       " 826666,\n",
       " 943169,\n",
       " 1035207,\n",
       " 1138467,\n",
       " 825343,\n",
       " 869322,\n",
       " 5568995,\n",
       " 934399,\n",
       " 12810391,\n",
       " 1081262,\n",
       " 829138,\n",
       " 1111116,\n",
       " 916122,\n",
       " 1092885,\n",
       " 999858,\n",
       " 1096573,\n",
       " 926523,\n",
       " 824180,\n",
       " 1131344,\n",
       " 13003092,\n",
       " 990797,\n",
       " 907099,\n",
       " 888543,\n",
       " 995896,\n",
       " 1056509,\n",
       " 1074333,\n",
       " 12352293,\n",
       " 998556,\n",
       " 9803601,\n",
       " 1092835,\n",
       " 956599,\n",
       " 933637,\n",
       " 856827,\n",
       " 930666,\n",
       " 1001702,\n",
       " 1004945,\n",
       " 12301109,\n",
       " 1124695,\n",
       " 1092937,\n",
       " 1094744,\n",
       " 9553065,\n",
       " 1072685,\n",
       " 8090541,\n",
       " 891954,\n",
       " 903763,\n",
       " 1124029,\n",
       " 9835903,\n",
       " 949151,\n",
       " 830304,\n",
       " 871611,\n",
       " 862866,\n",
       " 1041031,\n",
       " 1064213,\n",
       " 846823,\n",
       " 841236,\n",
       " 945662,\n",
       " 1106091,\n",
       " 1079067,\n",
       " 917816,\n",
       " 7024871,\n",
       " 1016093,\n",
       " 866871,\n",
       " 5567486]"
      ]
     },
     "execution_count": 5,
     "metadata": {},
     "output_type": "execute_result"
    }
   ],
   "source": [
    "recommender.get_als_recommendations(2375, N=200)"
   ]
  },
  {
   "cell_type": "code",
   "execution_count": 6,
   "metadata": {},
   "outputs": [
    {
     "data": {
      "text/plain": [
       "[948640,\n",
       " 918046,\n",
       " 847962,\n",
       " 907099,\n",
       " 873980,\n",
       " 884694,\n",
       " 10285454,\n",
       " 1107760,\n",
       " 7169090,\n",
       " 979674,\n",
       " 10308345,\n",
       " 1069531,\n",
       " 974766,\n",
       " 1015474,\n",
       " 950935,\n",
       " 847066,\n",
       " 1102207,\n",
       " 1020770,\n",
       " 9521787,\n",
       " 974265,\n",
       " 940996,\n",
       " 8019845,\n",
       " 5567194,\n",
       " 12811490,\n",
       " 1003616,\n",
       " 973181,\n",
       " 890719,\n",
       " 982955,\n",
       " 9677152,\n",
       " 998519,\n",
       " 1072685,\n",
       " 1131382,\n",
       " 1021715,\n",
       " 12263119,\n",
       " 960791,\n",
       " 7441873,\n",
       " 986021,\n",
       " 956666,\n",
       " 1038692,\n",
       " 9677748,\n",
       " 9297223,\n",
       " 927030,\n",
       " 12757653,\n",
       " 1046919,\n",
       " 6391532,\n",
       " 989069,\n",
       " 1068451,\n",
       " 951954,\n",
       " 835300,\n",
       " 937343,\n",
       " 1047249,\n",
       " 13876348,\n",
       " 1061732,\n",
       " 981601,\n",
       " 1121028,\n",
       " 1087547,\n",
       " 828393,\n",
       " 996269,\n",
       " 951951,\n",
       " 1036093,\n",
       " 1023815,\n",
       " 5570408,\n",
       " 827667,\n",
       " 1082454,\n",
       " 1006878,\n",
       " 5570048,\n",
       " 841309,\n",
       " 1078652,\n",
       " 1115553,\n",
       " 1056492,\n",
       " 1138467,\n",
       " 1004945,\n",
       " 947858,\n",
       " 1092885,\n",
       " 1121694,\n",
       " 938138,\n",
       " 8019916,\n",
       " 827919,\n",
       " 984315,\n",
       " 10341855,\n",
       " 883932,\n",
       " 8291322,\n",
       " 1096794,\n",
       " 1028938,\n",
       " 1087618,\n",
       " 8020166,\n",
       " 1082185,\n",
       " 866871,\n",
       " 930666,\n",
       " 825994,\n",
       " 910151,\n",
       " 823990,\n",
       " 848029,\n",
       " 896613,\n",
       " 12301839,\n",
       " 1117219,\n",
       " 1135258,\n",
       " 869868,\n",
       " 1046545,\n",
       " 899624,\n",
       " 6442594,\n",
       " 1137775,\n",
       " 825343,\n",
       " 1042907,\n",
       " 828106,\n",
       " 9245106,\n",
       " 947412,\n",
       " 902172,\n",
       " 8065410,\n",
       " 6034857,\n",
       " 1043751,\n",
       " 863447,\n",
       " 823704,\n",
       " 908318,\n",
       " 1105488,\n",
       " 874972,\n",
       " 7024847,\n",
       " 1081177,\n",
       " 1044078,\n",
       " 878996,\n",
       " 5707857,\n",
       " 916122,\n",
       " 1029743,\n",
       " 1106523,\n",
       " 5569230,\n",
       " 916122,\n",
       " 844179,\n",
       " 1044078,\n",
       " 1126899,\n",
       " 1070820,\n",
       " 1127831,\n",
       " 866211,\n",
       " 8090521,\n",
       " 878996,\n",
       " 8090537,\n",
       " 5569471,\n",
       " 1004906,\n",
       " 854852,\n",
       " 899624,\n",
       " 986912,\n",
       " 933835,\n",
       " 1075368,\n",
       " 1081177,\n",
       " 6034857,\n",
       " 5585510,\n",
       " 965267,\n",
       " 834117,\n",
       " 940947,\n",
       " 983584,\n",
       " 12810393,\n",
       " 913210,\n",
       " 874972,\n",
       " 5569845,\n",
       " 5568378,\n",
       " 999858,\n",
       " 908318,\n",
       " 985999,\n",
       " 901062,\n",
       " 1040807,\n",
       " 1018740,\n",
       " 951412,\n",
       " 1101010,\n",
       " 1105488,\n",
       " 1037840,\n",
       " 880150,\n",
       " 1043751,\n",
       " 857503,\n",
       " 1122358,\n",
       " 1132771,\n",
       " 823704,\n",
       " 854405,\n",
       " 909714,\n",
       " 993638,\n",
       " 930118,\n",
       " 839419,\n",
       " 971922,\n",
       " 910032,\n",
       " 863447,\n",
       " 835098,\n",
       " 865456,\n",
       " 976199,\n",
       " 12301109,\n",
       " 1070702,\n",
       " 5569374,\n",
       " 8090532,\n",
       " 872137,\n",
       " 883003,\n",
       " 1023720,\n",
       " 1012587,\n",
       " 1000753,\n",
       " 893018,\n",
       " 1024306,\n",
       " 897954,\n",
       " 1042438,\n",
       " 907631,\n",
       " 5568729,\n",
       " 1068719,\n",
       " 1137775,\n",
       " 1087102,\n",
       " 944534]"
      ]
     },
     "execution_count": 6,
     "metadata": {},
     "output_type": "execute_result"
    }
   ],
   "source": [
    "recommender.get_own_recommendations(2375, N=200)"
   ]
  },
  {
   "cell_type": "code",
   "execution_count": 7,
   "metadata": {},
   "outputs": [
    {
     "data": {
      "text/plain": [
       "[1046545,\n",
       " 1044078,\n",
       " 1044078,\n",
       " 6552253,\n",
       " 965766,\n",
       " 999999,\n",
       " 972191,\n",
       " 896613,\n",
       " 885863,\n",
       " 1025535,\n",
       " 899624,\n",
       " 878996,\n",
       " 906923,\n",
       " 871611,\n",
       " 865528,\n",
       " 919681,\n",
       " 828106,\n",
       " 1040807,\n",
       " 1127831,\n",
       " 921763,\n",
       " 938138,\n",
       " 847207,\n",
       " 858373,\n",
       " 12301100,\n",
       " 899624,\n",
       " 884945,\n",
       " 827578,\n",
       " 878285,\n",
       " 985999,\n",
       " 7441191,\n",
       " 9835903,\n",
       " 1068719,\n",
       " 1000753,\n",
       " 8205418,\n",
       " 1069312,\n",
       " 1087102,\n",
       " 918994,\n",
       " 825343,\n",
       " 1018316,\n",
       " 8068648,\n",
       " 835922,\n",
       " 916122,\n",
       " 869322,\n",
       " 820347,\n",
       " 1065538,\n",
       " 12648296,\n",
       " 947201,\n",
       " 822178,\n",
       " 8065410,\n",
       " 1008032,\n",
       " 1000050,\n",
       " 960732,\n",
       " 1065129,\n",
       " 990797,\n",
       " 825731,\n",
       " 1002771,\n",
       " 865456,\n",
       " 828106,\n",
       " 883068,\n",
       " 1105488,\n",
       " 1138467,\n",
       " 848029,\n",
       " 1120559,\n",
       " 930118,\n",
       " 899459,\n",
       " 10308345,\n",
       " 1022428,\n",
       " 882247,\n",
       " 5568378,\n",
       " 948650,\n",
       " 977882,\n",
       " 12262778,\n",
       " 9420314,\n",
       " 860106,\n",
       " 7441191,\n",
       " 969945,\n",
       " 866025,\n",
       " 5591170,\n",
       " 5568721,\n",
       " 7167864,\n",
       " 999270,\n",
       " 12301109,\n",
       " 999858,\n",
       " 5565202,\n",
       " 9297055,\n",
       " 9527160,\n",
       " 9677149,\n",
       " 9297106,\n",
       " 997987,\n",
       " 1020823,\n",
       " 1079338,\n",
       " 12757425,\n",
       " 963354,\n",
       " 835783,\n",
       " 1048507,\n",
       " 856827,\n",
       " 1072519,\n",
       " 937292,\n",
       " 1028995,\n",
       " 860804,\n",
       " 868909,\n",
       " 1087102,\n",
       " 1110857,\n",
       " 909811,\n",
       " 1055155,\n",
       " 1131488,\n",
       " 999999,\n",
       " 831557,\n",
       " 12648296,\n",
       " 7442008,\n",
       " 8090521,\n",
       " 9835408,\n",
       " 844462,\n",
       " 878996,\n",
       " 914188,\n",
       " 1067606,\n",
       " 936685,\n",
       " 866878,\n",
       " 845307,\n",
       " 827919,\n",
       " 916424,\n",
       " 5568378,\n",
       " 889223,\n",
       " 1029743,\n",
       " 1106523,\n",
       " 5569230,\n",
       " 916122,\n",
       " 844179,\n",
       " 1044078,\n",
       " 1126899,\n",
       " 1070820,\n",
       " 1127831,\n",
       " 866211,\n",
       " 8090521,\n",
       " 878996,\n",
       " 8090537,\n",
       " 5569471,\n",
       " 1004906,\n",
       " 854852,\n",
       " 899624,\n",
       " 986912,\n",
       " 933835,\n",
       " 1075368,\n",
       " 1081177,\n",
       " 6034857,\n",
       " 5585510,\n",
       " 965267,\n",
       " 834117,\n",
       " 940947,\n",
       " 983584,\n",
       " 12810393,\n",
       " 913210,\n",
       " 874972,\n",
       " 5569845,\n",
       " 5568378,\n",
       " 999858,\n",
       " 908318,\n",
       " 985999,\n",
       " 901062,\n",
       " 1040807,\n",
       " 1018740,\n",
       " 951412,\n",
       " 1101010,\n",
       " 1105488,\n",
       " 1037840,\n",
       " 880150,\n",
       " 1043751,\n",
       " 857503,\n",
       " 1122358,\n",
       " 1132771,\n",
       " 823704,\n",
       " 854405,\n",
       " 909714,\n",
       " 993638,\n",
       " 930118,\n",
       " 839419,\n",
       " 971922,\n",
       " 910032,\n",
       " 863447,\n",
       " 835098,\n",
       " 865456,\n",
       " 976199,\n",
       " 12301109,\n",
       " 1070702,\n",
       " 5569374,\n",
       " 8090532,\n",
       " 872137,\n",
       " 883003,\n",
       " 1023720,\n",
       " 1012587,\n",
       " 1000753,\n",
       " 893018,\n",
       " 1024306,\n",
       " 897954,\n",
       " 1042438,\n",
       " 907631,\n",
       " 5568729,\n",
       " 1068719,\n",
       " 1137775,\n",
       " 1087102]"
      ]
     },
     "execution_count": 7,
     "metadata": {},
     "output_type": "execute_result"
    }
   ],
   "source": [
    "recommender.get_similar_items_recommendation(2375, N=200)"
   ]
  },
  {
   "cell_type": "code",
   "execution_count": 8,
   "metadata": {},
   "outputs": [
    {
     "data": {
      "text/plain": [
       "[7146026,\n",
       " 1057749,\n",
       " 938165,\n",
       " 1133654,\n",
       " 1115069,\n",
       " 8090956,\n",
       " 13002975,\n",
       " 1056212,\n",
       " 1107760,\n",
       " 955275,\n",
       " 821741,\n",
       " 993838,\n",
       " 1138596,\n",
       " 835351,\n",
       " 1123106,\n",
       " 918638,\n",
       " 841236,\n",
       " 977559,\n",
       " 900379,\n",
       " 841365,\n",
       " 847962,\n",
       " 970152,\n",
       " 1056212,\n",
       " 928749,\n",
       " 8203710,\n",
       " 1029549,\n",
       " 870515,\n",
       " 1055403,\n",
       " 1115069,\n",
       " 949257,\n",
       " 918638,\n",
       " 879734,\n",
       " 865026,\n",
       " 819840,\n",
       " 875392,\n",
       " 979674,\n",
       " 970160,\n",
       " 1138596,\n",
       " 1082990,\n",
       " 7442505,\n",
       " 962967,\n",
       " 847962,\n",
       " 1037135,\n",
       " 861494,\n",
       " 1135971,\n",
       " 820486,\n",
       " 1132956,\n",
       " 1057168,\n",
       " 1097398,\n",
       " 9420354,\n",
       " 1055403,\n",
       " 1122844,\n",
       " 6979393,\n",
       " 1117690,\n",
       " 1008288,\n",
       " 917406,\n",
       " 8090956,\n",
       " 998519,\n",
       " 1111986,\n",
       " 1134006,\n",
       " 949257,\n",
       " 1081533,\n",
       " 1056212,\n",
       " 950935,\n",
       " 1075765,\n",
       " 1115069,\n",
       " 1024319,\n",
       " 1136341,\n",
       " 1062572,\n",
       " 1052294,\n",
       " 874563,\n",
       " 971474,\n",
       " 1113675,\n",
       " 1070129,\n",
       " 1134296,\n",
       " 1052975,\n",
       " 825317,\n",
       " 928749,\n",
       " 1088771,\n",
       " 873324,\n",
       " 820486,\n",
       " 928749,\n",
       " 1096573,\n",
       " 949345,\n",
       " 1038745,\n",
       " 918046,\n",
       " 8090542,\n",
       " 907099,\n",
       " 953539,\n",
       " 1065259,\n",
       " 835499,\n",
       " 1096573,\n",
       " 970152,\n",
       " 879922,\n",
       " 1069039,\n",
       " 5574377,\n",
       " 1049922,\n",
       " 847962,\n",
       " 958067,\n",
       " 9677462,\n",
       " 1087411,\n",
       " 872066,\n",
       " 1069256,\n",
       " 983959,\n",
       " 1024489,\n",
       " 848684,\n",
       " 9859017,\n",
       " 970160,\n",
       " 865233,\n",
       " 1027835,\n",
       " 1038745,\n",
       " 1056212,\n",
       " 835618,\n",
       " 967994,\n",
       " 961447,\n",
       " 5707857,\n",
       " 5707857,\n",
       " 5707857,\n",
       " 5707857,\n",
       " 5707857,\n",
       " 5707857,\n",
       " 5707857,\n",
       " 5707857,\n",
       " 5707857,\n",
       " 5707857,\n",
       " 5707857,\n",
       " 5707857,\n",
       " 5707857,\n",
       " 5707857,\n",
       " 5707857,\n",
       " 5707857,\n",
       " 5707857,\n",
       " 5707857,\n",
       " 5707857,\n",
       " 5707857,\n",
       " 5707857,\n",
       " 5707857,\n",
       " 5707857,\n",
       " 927277,\n",
       " 998519,\n",
       " 1134296,\n",
       " 879922,\n",
       " 1086740,\n",
       " 847434,\n",
       " 1055403,\n",
       " 828489,\n",
       " 883819,\n",
       " 1093413,\n",
       " 13158064,\n",
       " 7168058,\n",
       " 898448,\n",
       " 7169088,\n",
       " 872826,\n",
       " 1040416,\n",
       " 841236,\n",
       " 1086740,\n",
       " 925350,\n",
       " 1057168,\n",
       " 10198378,\n",
       " 1031316,\n",
       " 894360,\n",
       " 842423,\n",
       " 1029465,\n",
       " 935578,\n",
       " 8090560,\n",
       " 1037840,\n",
       " 1075765,\n",
       " 1048299,\n",
       " 949345,\n",
       " 908314,\n",
       " 918046,\n",
       " 843464,\n",
       " 939681,\n",
       " 1118946,\n",
       " 1027216,\n",
       " 894439,\n",
       " 1042571,\n",
       " 935460,\n",
       " 7168057,\n",
       " 974250,\n",
       " 5568072,\n",
       " 1134483,\n",
       " 1132956,\n",
       " 1114811,\n",
       " 835988,\n",
       " 12731466,\n",
       " 1031316,\n",
       " 9831557,\n",
       " 1101932,\n",
       " 863324,\n",
       " 891632,\n",
       " 1036093,\n",
       " 1087411,\n",
       " 871514,\n",
       " 947412,\n",
       " 1112205,\n",
       " 951176,\n",
       " 965555,\n",
       " 922753,\n",
       " 6979518]"
      ]
     },
     "execution_count": 8,
     "metadata": {},
     "output_type": "execute_result"
    }
   ],
   "source": [
    "recommender.get_similar_users_recommendation(2375, N=200)"
   ]
  },
  {
   "cell_type": "markdown",
   "metadata": {},
   "source": [
    "### Задание 1\n",
    "\n",
    "A) Попробуйте различные варианты генерации кандидатов. Какие из них дают наибольший recall@k ?\n",
    "- Пока пробуем отобрать 200 кандидатов (k=200)\n",
    "- Качество измеряем на data_val_lvl_1: следующие 6 недель после трейна\n",
    "\n",
    "Дают ли own recommendtions + top-popular лучший recall?  \n",
    "\n",
    "B)* Как зависит recall@k от k? Постройте для одной схемы генерации кандидатов эту зависимость для k = {20, 50, 100, 200, 500}  \n",
    "C)* Исходя из прошлого вопроса, как вы думаете, какое значение k является наиболее разумным?\n"
   ]
  },
  {
   "cell_type": "code",
   "execution_count": 9,
   "metadata": {
    "scrolled": true
   },
   "outputs": [],
   "source": [
    "data_val_lvl_1=data_val_lvl_1[data_val_lvl_1['user_id'].isin(data_train_lvl_1.user_id.unique().tolist())]"
   ]
  },
  {
   "cell_type": "code",
   "execution_count": 10,
   "metadata": {},
   "outputs": [
    {
     "data": {
      "text/html": [
       "<div>\n",
       "<style scoped>\n",
       "    .dataframe tbody tr th:only-of-type {\n",
       "        vertical-align: middle;\n",
       "    }\n",
       "\n",
       "    .dataframe tbody tr th {\n",
       "        vertical-align: top;\n",
       "    }\n",
       "\n",
       "    .dataframe thead th {\n",
       "        text-align: right;\n",
       "    }\n",
       "</style>\n",
       "<table border=\"1\" class=\"dataframe\">\n",
       "  <thead>\n",
       "    <tr style=\"text-align: right;\">\n",
       "      <th></th>\n",
       "      <th>user_id</th>\n",
       "      <th>actual</th>\n",
       "    </tr>\n",
       "  </thead>\n",
       "  <tbody>\n",
       "    <tr>\n",
       "      <th>0</th>\n",
       "      <td>1</td>\n",
       "      <td>[853529, 865456, 867607, 872137, 874905, 87524...</td>\n",
       "    </tr>\n",
       "    <tr>\n",
       "      <th>1</th>\n",
       "      <td>2</td>\n",
       "      <td>[15830248, 838136, 839656, 861272, 866211, 870...</td>\n",
       "    </tr>\n",
       "  </tbody>\n",
       "</table>\n",
       "</div>"
      ],
      "text/plain": [
       "   user_id                                             actual\n",
       "0        1  [853529, 865456, 867607, 872137, 874905, 87524...\n",
       "1        2  [15830248, 838136, 839656, 861272, 866211, 870..."
      ]
     },
     "execution_count": 10,
     "metadata": {},
     "output_type": "execute_result"
    }
   ],
   "source": [
    "result_lvl_1 = data_val_lvl_1.groupby('user_id')['item_id'].unique().reset_index()\n",
    "result_lvl_1.columns=['user_id', 'actual']\n",
    "result_lvl_1.head(2)"
   ]
  },
  {
   "cell_type": "code",
   "execution_count": 11,
   "metadata": {
    "scrolled": true
   },
   "outputs": [],
   "source": [
    "# your_code\n",
    "result_lvl_1['als']=result_lvl_1['user_id'].apply(lambda x:recommender.get_als_recommendations(x, N=200))\n",
    "\n",
    "result_lvl_1['own']=result_lvl_1['user_id'].apply(lambda x:recommender.get_own_recommendations(x, N=200))\n",
    "\n",
    "result_lvl_1['sim_items']=result_lvl_1['user_id'].apply(lambda x:recommender.get_similar_items_recommendation(x, N=200))"
   ]
  },
  {
   "cell_type": "code",
   "execution_count": 12,
   "metadata": {
    "scrolled": true
   },
   "outputs": [],
   "source": [
    "# result_lvl_1['sim_users']=result_lvl_1['user_id'].apply(lambda x:recommender.get_similar_users_recommendation(x, N=200))"
   ]
  },
  {
   "cell_type": "code",
   "execution_count": 13,
   "metadata": {
    "scrolled": true
   },
   "outputs": [],
   "source": [
    "result_lvl_1['recall_als']=result_lvl_1.apply(lambda x:recall_at_k(x['als'],x['actual'],k=20),axis=1)\n",
    "result_lvl_1['recall_own']=result_lvl_1.apply(lambda x:recall_at_k(x['own'],x['actual'],k=20),axis=1)\n",
    "result_lvl_1['recall_sim_items']=result_lvl_1.apply(lambda x:recall_at_k(x['sim_items'],x['actual'],k=20),axis=1)"
   ]
  },
  {
   "cell_type": "code",
   "execution_count": 14,
   "metadata": {},
   "outputs": [
    {
     "name": "stdout",
     "output_type": "stream",
     "text": [
      "Результат recall_als : 0.02866260352933246\n",
      "Результат recall_own : 0.03928427679372909\n",
      "Результат recall_sim_items : 0.017732079808632062\n"
     ]
    }
   ],
   "source": [
    "for n in ['recall_als','recall_own','recall_sim_items']:\n",
    "    print(f'Результат {n} : {result_lvl_1[n].mean()}')"
   ]
  },
  {
   "cell_type": "markdown",
   "metadata": {},
   "source": [
    "***recall_own показал наилучший результат***"
   ]
  },
  {
   "cell_type": "code",
   "execution_count": 17,
   "metadata": {},
   "outputs": [],
   "source": [
    "import seaborn as sns"
   ]
  },
  {
   "cell_type": "code",
   "execution_count": 48,
   "metadata": {},
   "outputs": [],
   "source": [
    "sns.set(rc={'figure.figsize':(10,5)})"
   ]
  },
  {
   "cell_type": "code",
   "execution_count": 25,
   "metadata": {},
   "outputs": [],
   "source": [
    "df_mtr=pd.DataFrame()\n",
    "for k in [20, 50, 100, 200, 500]:\n",
    "    c=result_lvl_1.apply(lambda x:recall_at_k(x['own'],x['actual'],k=k),axis=1).mean()\n",
    "    df_temp=pd.DataFrame({'at_k':[k],'value':[c]})\n",
    "    df_mtr=df_mtr.append(df_temp)"
   ]
  },
  {
   "cell_type": "code",
   "execution_count": 49,
   "metadata": {},
   "outputs": [
    {
     "data": {
      "text/plain": [
       "Text(0.5, 1.0, 'Зависимость значение recall_at_k от количество k')"
      ]
     },
     "execution_count": 49,
     "metadata": {},
     "output_type": "execute_result"
    },
    {
     "data": {
      "image/png": "[encoded data removed]",
      "text/plain": [
       "<Figure size 720x360 with 1 Axes>"
      ]
     },
     "metadata": {},
     "output_type": "display_data"
    }
   ],
   "source": [
    "sns.lineplot(x='at_k',y='value',data=df_mtr).set_title('Зависимость значение recall_at_k от количество k')"
   ]
  },
  {
   "cell_type": "markdown",
   "metadata": {},
   "source": [
    "Наиболее разумным лучше подбирать k в соотстветствии c бизнесой задачей. Например, нужно порекомендовать 10 товаров, то лучше в финальной метрике делать recall на 10 товаров"
   ]
  },
  {
   "cell_type": "markdown",
   "metadata": {},
   "source": [
    "### Задание 2.\n",
    "\n",
    "Обучите модель 2-ого уровня, при этом:\n",
    "    - Добавьте минимум по 2 фичи для юзера, товара и пары юзер-товар\n",
    "    - Измерьте отдельно precision@5 модели 1-ого уровня и двухуровневой модели на data_val_lvl_2\n",
    "    - Вырос ли precision@5 при использовании двухуровневой модели?"
   ]
  },
  {
   "cell_type": "code",
   "execution_count": 68,
   "metadata": {},
   "outputs": [],
   "source": [
    "data_val_lvl_2=data_val_lvl_2[data_val_lvl_2['user_id'].isin(data_train_lvl_1.user_id.unique().tolist())]"
   ]
  },
  {
   "cell_type": "code",
   "execution_count": 69,
   "metadata": {},
   "outputs": [
    {
     "data": {
      "text/html": [
       "<div>\n",
       "<style scoped>\n",
       "    .dataframe tbody tr th:only-of-type {\n",
       "        vertical-align: middle;\n",
       "    }\n",
       "\n",
       "    .dataframe tbody tr th {\n",
       "        vertical-align: top;\n",
       "    }\n",
       "\n",
       "    .dataframe thead th {\n",
       "        text-align: right;\n",
       "    }\n",
       "</style>\n",
       "<table border=\"1\" class=\"dataframe\">\n",
       "  <thead>\n",
       "    <tr style=\"text-align: right;\">\n",
       "      <th></th>\n",
       "      <th>user_id</th>\n",
       "      <th>actual</th>\n",
       "    </tr>\n",
       "  </thead>\n",
       "  <tbody>\n",
       "    <tr>\n",
       "      <th>0</th>\n",
       "      <td>1</td>\n",
       "      <td>[821867, 834484, 856942, 865456, 889248, 90795...</td>\n",
       "    </tr>\n",
       "    <tr>\n",
       "      <th>1</th>\n",
       "      <td>6</td>\n",
       "      <td>[920308, 926804, 946489, 1006718, 1017061, 107...</td>\n",
       "    </tr>\n",
       "  </tbody>\n",
       "</table>\n",
       "</div>"
      ],
      "text/plain": [
       "   user_id                                             actual\n",
       "0        1  [821867, 834484, 856942, 865456, 889248, 90795...\n",
       "1        6  [920308, 926804, 946489, 1006718, 1017061, 107..."
      ]
     },
     "execution_count": 69,
     "metadata": {},
     "output_type": "execute_result"
    }
   ],
   "source": [
    "result_lvl_2 = data_val_lvl_2.groupby('user_id')['item_id'].unique().reset_index()\n",
    "result_lvl_2.columns=['user_id', 'actual']\n",
    "result_lvl_2.head(2)"
   ]
  },
  {
   "cell_type": "code",
   "execution_count": 70,
   "metadata": {},
   "outputs": [],
   "source": [
    "result_lvl_2['own']=result_lvl_2['user_id'].apply(lambda x:recommender.get_own_recommendations(x, N=200))"
   ]
  },
  {
   "cell_type": "markdown",
   "metadata": {},
   "source": [
    "precision@5 модели 1-ого уровня"
   ]
  },
  {
   "cell_type": "code",
   "execution_count": 71,
   "metadata": {},
   "outputs": [
    {
     "data": {
      "text/plain": [
       "0.1507049608355081"
      ]
     },
     "execution_count": 71,
     "metadata": {},
     "output_type": "execute_result"
    }
   ],
   "source": [
    "result_lvl_2.apply(lambda x:precision_at_k(x['own'],x['actual'],k=5),axis=1).mean()"
   ]
  },
  {
   "cell_type": "code",
   "execution_count": 51,
   "metadata": {
    "scrolled": true
   },
   "outputs": [
    {
     "data": {
      "text/html": [
       "<div>\n",
       "<style scoped>\n",
       "    .dataframe tbody tr th:only-of-type {\n",
       "        vertical-align: middle;\n",
       "    }\n",
       "\n",
       "    .dataframe tbody tr th {\n",
       "        vertical-align: top;\n",
       "    }\n",
       "\n",
       "    .dataframe thead th {\n",
       "        text-align: right;\n",
       "    }\n",
       "</style>\n",
       "<table border=\"1\" class=\"dataframe\">\n",
       "  <thead>\n",
       "    <tr style=\"text-align: right;\">\n",
       "      <th></th>\n",
       "      <th>age_desc</th>\n",
       "      <th>marital_status_code</th>\n",
       "      <th>income_desc</th>\n",
       "      <th>homeowner_desc</th>\n",
       "      <th>hh_comp_desc</th>\n",
       "      <th>household_size_desc</th>\n",
       "      <th>kid_category_desc</th>\n",
       "      <th>user_id</th>\n",
       "    </tr>\n",
       "  </thead>\n",
       "  <tbody>\n",
       "    <tr>\n",
       "      <th>0</th>\n",
       "      <td>65+</td>\n",
       "      <td>A</td>\n",
       "      <td>35-49K</td>\n",
       "      <td>Homeowner</td>\n",
       "      <td>2 Adults No Kids</td>\n",
       "      <td>2</td>\n",
       "      <td>None/Unknown</td>\n",
       "      <td>1</td>\n",
       "    </tr>\n",
       "    <tr>\n",
       "      <th>1</th>\n",
       "      <td>45-54</td>\n",
       "      <td>A</td>\n",
       "      <td>50-74K</td>\n",
       "      <td>Homeowner</td>\n",
       "      <td>2 Adults No Kids</td>\n",
       "      <td>2</td>\n",
       "      <td>None/Unknown</td>\n",
       "      <td>7</td>\n",
       "    </tr>\n",
       "    <tr>\n",
       "      <th>2</th>\n",
       "      <td>25-34</td>\n",
       "      <td>U</td>\n",
       "      <td>25-34K</td>\n",
       "      <td>Unknown</td>\n",
       "      <td>2 Adults Kids</td>\n",
       "      <td>3</td>\n",
       "      <td>1</td>\n",
       "      <td>8</td>\n",
       "    </tr>\n",
       "    <tr>\n",
       "      <th>3</th>\n",
       "      <td>25-34</td>\n",
       "      <td>U</td>\n",
       "      <td>75-99K</td>\n",
       "      <td>Homeowner</td>\n",
       "      <td>2 Adults Kids</td>\n",
       "      <td>4</td>\n",
       "      <td>2</td>\n",
       "      <td>13</td>\n",
       "    </tr>\n",
       "    <tr>\n",
       "      <th>4</th>\n",
       "      <td>45-54</td>\n",
       "      <td>B</td>\n",
       "      <td>50-74K</td>\n",
       "      <td>Homeowner</td>\n",
       "      <td>Single Female</td>\n",
       "      <td>1</td>\n",
       "      <td>None/Unknown</td>\n",
       "      <td>16</td>\n",
       "    </tr>\n",
       "  </tbody>\n",
       "</table>\n",
       "</div>"
      ],
      "text/plain": [
       "  age_desc marital_status_code income_desc homeowner_desc      hh_comp_desc  \\\n",
       "0      65+                   A      35-49K      Homeowner  2 Adults No Kids   \n",
       "1    45-54                   A      50-74K      Homeowner  2 Adults No Kids   \n",
       "2    25-34                   U      25-34K        Unknown     2 Adults Kids   \n",
       "3    25-34                   U      75-99K      Homeowner     2 Adults Kids   \n",
       "4    45-54                   B      50-74K      Homeowner     Single Female   \n",
       "\n",
       "  household_size_desc kid_category_desc  user_id  \n",
       "0                   2      None/Unknown        1  \n",
       "1                   2      None/Unknown        7  \n",
       "2                   3                 1        8  \n",
       "3                   4                 2       13  \n",
       "4                   1      None/Unknown       16  "
      ]
     },
     "execution_count": 51,
     "metadata": {},
     "output_type": "execute_result"
    }
   ],
   "source": [
    "user_features.head()"
   ]
  },
  {
   "cell_type": "code",
   "execution_count": 52,
   "metadata": {},
   "outputs": [],
   "source": [
    "users_lvl_2 = pd.DataFrame(data_train_lvl_2['user_id'].unique())\n",
    "users_lvl_2.columns = ['user_id']\n",
    "\n",
    "# Пока только warm start\n",
    "train_users = data_train_lvl_1['user_id'].unique()\n",
    "users_lvl_2 = users_lvl_2[users_lvl_2['user_id'].isin(train_users)]\n",
    "\n",
    "users_lvl_2['candidates'] = users_lvl_2['user_id'].apply(lambda x: recommender.get_own_recommendations(x, N=200))"
   ]
  },
  {
   "cell_type": "code",
   "execution_count": 53,
   "metadata": {},
   "outputs": [
    {
     "data": {
      "text/html": [
       "<div>\n",
       "<style scoped>\n",
       "    .dataframe tbody tr th:only-of-type {\n",
       "        vertical-align: middle;\n",
       "    }\n",
       "\n",
       "    .dataframe tbody tr th {\n",
       "        vertical-align: top;\n",
       "    }\n",
       "\n",
       "    .dataframe thead th {\n",
       "        text-align: right;\n",
       "    }\n",
       "</style>\n",
       "<table border=\"1\" class=\"dataframe\">\n",
       "  <thead>\n",
       "    <tr style=\"text-align: right;\">\n",
       "      <th></th>\n",
       "      <th>user_id</th>\n",
       "      <th>item_id</th>\n",
       "      <th>drop</th>\n",
       "    </tr>\n",
       "  </thead>\n",
       "  <tbody>\n",
       "    <tr>\n",
       "      <th>0</th>\n",
       "      <td>2070</td>\n",
       "      <td>1105426</td>\n",
       "      <td>1</td>\n",
       "    </tr>\n",
       "    <tr>\n",
       "      <th>0</th>\n",
       "      <td>2070</td>\n",
       "      <td>1097350</td>\n",
       "      <td>1</td>\n",
       "    </tr>\n",
       "    <tr>\n",
       "      <th>0</th>\n",
       "      <td>2070</td>\n",
       "      <td>879194</td>\n",
       "      <td>1</td>\n",
       "    </tr>\n",
       "    <tr>\n",
       "      <th>0</th>\n",
       "      <td>2070</td>\n",
       "      <td>948640</td>\n",
       "      <td>1</td>\n",
       "    </tr>\n",
       "  </tbody>\n",
       "</table>\n",
       "</div>"
      ],
      "text/plain": [
       "   user_id  item_id  drop\n",
       "0     2070  1105426     1\n",
       "0     2070  1097350     1\n",
       "0     2070   879194     1\n",
       "0     2070   948640     1"
      ]
     },
     "execution_count": 53,
     "metadata": {},
     "output_type": "execute_result"
    }
   ],
   "source": [
    "s = users_lvl_2.apply(lambda x: pd.Series(x['candidates']), axis=1).stack().reset_index(level=1, drop=True)\n",
    "s.name = 'item_id'\n",
    "\n",
    "users_lvl_2 = users_lvl_2.drop('candidates', axis=1).join(s)\n",
    "users_lvl_2['drop'] = 1  # фиктивная пересенная\n",
    "\n",
    "users_lvl_2.head(4)"
   ]
  },
  {
   "cell_type": "code",
   "execution_count": 54,
   "metadata": {},
   "outputs": [],
   "source": [
    "targets_lvl_2 = data_train_lvl_2[['user_id', 'item_id']].copy()\n",
    "targets_lvl_2['target'] = 1  # тут только покупки \n",
    "\n",
    "targets_lvl_2 = users_lvl_2.merge(targets_lvl_2, on=['user_id', 'item_id'], how='left')\n",
    "\n",
    "targets_lvl_2['target'].fillna(0, inplace= True)\n",
    "targets_lvl_2.drop('drop', axis=1, inplace=True)"
   ]
  },
  {
   "cell_type": "markdown",
   "metadata": {},
   "source": [
    "Добавление фичей"
   ]
  },
  {
   "cell_type": "code",
   "execution_count": 56,
   "metadata": {
    "scrolled": true
   },
   "outputs": [
    {
     "data": {
      "text/html": [
       "<div>\n",
       "<style scoped>\n",
       "    .dataframe tbody tr th:only-of-type {\n",
       "        vertical-align: middle;\n",
       "    }\n",
       "\n",
       "    .dataframe tbody tr th {\n",
       "        vertical-align: top;\n",
       "    }\n",
       "\n",
       "    .dataframe thead th {\n",
       "        text-align: right;\n",
       "    }\n",
       "</style>\n",
       "<table border=\"1\" class=\"dataframe\">\n",
       "  <thead>\n",
       "    <tr style=\"text-align: right;\">\n",
       "      <th></th>\n",
       "      <th>user_id</th>\n",
       "      <th>item_id</th>\n",
       "      <th>target</th>\n",
       "      <th>brand</th>\n",
       "      <th>sub_commodity_desc</th>\n",
       "      <th>household_size_desc</th>\n",
       "      <th>marital_status_code</th>\n",
       "    </tr>\n",
       "  </thead>\n",
       "  <tbody>\n",
       "    <tr>\n",
       "      <th>0</th>\n",
       "      <td>2070</td>\n",
       "      <td>1105426</td>\n",
       "      <td>0.0</td>\n",
       "      <td>Private</td>\n",
       "      <td>SANDWICHES - (COLD)</td>\n",
       "      <td>1</td>\n",
       "      <td>U</td>\n",
       "    </tr>\n",
       "    <tr>\n",
       "      <th>1</th>\n",
       "      <td>2070</td>\n",
       "      <td>1097350</td>\n",
       "      <td>0.0</td>\n",
       "      <td>National</td>\n",
       "      <td>VALUE GLASS WINE</td>\n",
       "      <td>1</td>\n",
       "      <td>U</td>\n",
       "    </tr>\n",
       "  </tbody>\n",
       "</table>\n",
       "</div>"
      ],
      "text/plain": [
       "   user_id  item_id  target     brand   sub_commodity_desc  \\\n",
       "0     2070  1105426     0.0   Private  SANDWICHES - (COLD)   \n",
       "1     2070  1097350     0.0  National     VALUE GLASS WINE   \n",
       "\n",
       "  household_size_desc marital_status_code  \n",
       "0                   1                   U  \n",
       "1                   1                   U  "
      ]
     },
     "execution_count": 56,
     "metadata": {},
     "output_type": "execute_result"
    }
   ],
   "source": [
    "targets_lvl_2 = targets_lvl_2.merge(item_features[['item_id','brand','sub_commodity_desc']], on='item_id', how='left')\n",
    "targets_lvl_2 = targets_lvl_2.merge(user_features[['user_id','household_size_desc','marital_status_code']], on='user_id', how='left')\n",
    "\n",
    "targets_lvl_2.head(2)"
   ]
  },
  {
   "cell_type": "code",
   "execution_count": 57,
   "metadata": {},
   "outputs": [],
   "source": [
    "X_train = targets_lvl_2.drop('target', axis=1)\n",
    "y_train = targets_lvl_2[['target']]"
   ]
  },
  {
   "cell_type": "code",
   "execution_count": 59,
   "metadata": {},
   "outputs": [
    {
     "data": {
      "text/plain": [
       "['brand', 'sub_commodity_desc', 'household_size_desc', 'marital_status_code']"
      ]
     },
     "execution_count": 59,
     "metadata": {},
     "output_type": "execute_result"
    }
   ],
   "source": [
    "cat_feats = X_train.columns[2:].tolist()\n",
    "X_train[cat_feats] = X_train[cat_feats].astype('category')\n",
    "\n",
    "cat_feats"
   ]
  },
  {
   "cell_type": "markdown",
   "metadata": {},
   "source": [
    "Обучение"
   ]
  },
  {
   "cell_type": "code",
   "execution_count": 60,
   "metadata": {},
   "outputs": [
    {
     "name": "stderr",
     "output_type": "stream",
     "text": [
      "C:\\Users\\Zviad\\AppData\\Roaming\\Python\\Python37\\site-packages\\sklearn\\preprocessing\\_label.py:235: DataConversionWarning: A column-vector y was passed when a 1d array was expected. Please change the shape of y to (n_samples, ), for example using ravel().\n",
      "  y = column_or_1d(y, warn=True)\n",
      "C:\\Users\\Zviad\\AppData\\Roaming\\Python\\Python37\\site-packages\\sklearn\\preprocessing\\_label.py:268: DataConversionWarning: A column-vector y was passed when a 1d array was expected. Please change the shape of y to (n_samples, ), for example using ravel().\n",
      "  y = column_or_1d(y, warn=True)\n",
      "C:\\Users\\Zviad\\AppData\\Roaming\\Python\\Python37\\site-packages\\lightgbm\\basic.py:863: UserWarning: categorical_column in param dict is overridden.\n",
      "  warnings.warn('{} in param dict is overridden.'.format(cat_alias))\n"
     ]
    },
    {
     "name": "stdout",
     "output_type": "stream",
     "text": [
      "Wall time: 20.6 s\n"
     ]
    }
   ],
   "source": [
    "%%time\n",
    "\n",
    "lgb = LGBMClassifier(objective='binary', max_depth=7, categorical_column=cat_feats)\n",
    "lgb.fit(X_train, y_train)\n",
    "\n",
    "train_preds = lgb.predict(X_train)"
   ]
  },
  {
   "cell_type": "code",
   "execution_count": 61,
   "metadata": {},
   "outputs": [
    {
     "data": {
      "text/plain": [
       "array([0., 0., 0., ..., 0., 0., 0.])"
      ]
     },
     "execution_count": 61,
     "metadata": {},
     "output_type": "execute_result"
    }
   ],
   "source": [
    "train_preds"
   ]
  },
  {
   "cell_type": "code",
   "execution_count": 72,
   "metadata": {},
   "outputs": [],
   "source": [
    "# На всякий чтобы не потерять датафрейм\n",
    "X_train_c=X_train"
   ]
  },
  {
   "cell_type": "code",
   "execution_count": 73,
   "metadata": {},
   "outputs": [],
   "source": [
    "X_train_c['pred']=pd.DataFrame(train_preds)"
   ]
  },
  {
   "cell_type": "code",
   "execution_count": 75,
   "metadata": {},
   "outputs": [],
   "source": [
    "X_train_c=X_train_c[X_train_c['pred']==1]"
   ]
  },
  {
   "cell_type": "code",
   "execution_count": 78,
   "metadata": {},
   "outputs": [
    {
     "data": {
      "text/html": [
       "<div>\n",
       "<style scoped>\n",
       "    .dataframe tbody tr th:only-of-type {\n",
       "        vertical-align: middle;\n",
       "    }\n",
       "\n",
       "    .dataframe tbody tr th {\n",
       "        vertical-align: top;\n",
       "    }\n",
       "\n",
       "    .dataframe thead th {\n",
       "        text-align: right;\n",
       "    }\n",
       "</style>\n",
       "<table border=\"1\" class=\"dataframe\">\n",
       "  <thead>\n",
       "    <tr style=\"text-align: right;\">\n",
       "      <th></th>\n",
       "      <th>user_id</th>\n",
       "      <th>pred_lgbm</th>\n",
       "    </tr>\n",
       "  </thead>\n",
       "  <tbody>\n",
       "    <tr>\n",
       "      <th>0</th>\n",
       "      <td>1</td>\n",
       "      <td>[1029743, 1070820]</td>\n",
       "    </tr>\n",
       "    <tr>\n",
       "      <th>1</th>\n",
       "      <td>7</td>\n",
       "      <td>[1029743, 1070820]</td>\n",
       "    </tr>\n",
       "  </tbody>\n",
       "</table>\n",
       "</div>"
      ],
      "text/plain": [
       "   user_id           pred_lgbm\n",
       "0        1  [1029743, 1070820]\n",
       "1        7  [1029743, 1070820]"
      ]
     },
     "execution_count": 78,
     "metadata": {},
     "output_type": "execute_result"
    }
   ],
   "source": [
    "data_check = X_train_c.groupby('user_id')['item_id'].unique().reset_index()\n",
    "data_check.columns=['user_id', 'pred_lgbm']\n",
    "data_check.head(2)"
   ]
  },
  {
   "cell_type": "code",
   "execution_count": 81,
   "metadata": {},
   "outputs": [],
   "source": [
    "data_check_=data_check.merge(result_lvl_2[['user_id','actual']],how='left',on='user_id')"
   ]
  },
  {
   "cell_type": "code",
   "execution_count": 83,
   "metadata": {},
   "outputs": [
    {
     "data": {
      "text/html": [
       "<div>\n",
       "<style scoped>\n",
       "    .dataframe tbody tr th:only-of-type {\n",
       "        vertical-align: middle;\n",
       "    }\n",
       "\n",
       "    .dataframe tbody tr th {\n",
       "        vertical-align: top;\n",
       "    }\n",
       "\n",
       "    .dataframe thead th {\n",
       "        text-align: right;\n",
       "    }\n",
       "</style>\n",
       "<table border=\"1\" class=\"dataframe\">\n",
       "  <thead>\n",
       "    <tr style=\"text-align: right;\">\n",
       "      <th></th>\n",
       "      <th>user_id</th>\n",
       "      <th>pred_lgbm</th>\n",
       "      <th>actual</th>\n",
       "    </tr>\n",
       "  </thead>\n",
       "  <tbody>\n",
       "    <tr>\n",
       "      <th>0</th>\n",
       "      <td>1</td>\n",
       "      <td>[1029743, 1070820]</td>\n",
       "      <td>[821867, 834484, 856942, 865456, 889248, 90795...</td>\n",
       "    </tr>\n",
       "    <tr>\n",
       "      <th>1</th>\n",
       "      <td>7</td>\n",
       "      <td>[1029743, 1070820]</td>\n",
       "      <td>[840386, 889774, 898068, 909714, 929067, 95347...</td>\n",
       "    </tr>\n",
       "    <tr>\n",
       "      <th>2</th>\n",
       "      <td>13</td>\n",
       "      <td>[9488065, 865156, 10456568, 951197, 7168417]</td>\n",
       "      <td>[6534178, 1104146, 829197, 840361, 862070, 884...</td>\n",
       "    </tr>\n",
       "    <tr>\n",
       "      <th>3</th>\n",
       "      <td>16</td>\n",
       "      <td>[1082185]</td>\n",
       "      <td>[1062973, 1082185, 13007710]</td>\n",
       "    </tr>\n",
       "    <tr>\n",
       "      <th>4</th>\n",
       "      <td>18</td>\n",
       "      <td>[1029743, 1106523, 1126899, 1070820]</td>\n",
       "      <td>[831628, 907877, 914697, 995242, 1118878, 1128...</td>\n",
       "    </tr>\n",
       "  </tbody>\n",
       "</table>\n",
       "</div>"
      ],
      "text/plain": [
       "   user_id                                     pred_lgbm  \\\n",
       "0        1                            [1029743, 1070820]   \n",
       "1        7                            [1029743, 1070820]   \n",
       "2       13  [9488065, 865156, 10456568, 951197, 7168417]   \n",
       "3       16                                     [1082185]   \n",
       "4       18          [1029743, 1106523, 1126899, 1070820]   \n",
       "\n",
       "                                              actual  \n",
       "0  [821867, 834484, 856942, 865456, 889248, 90795...  \n",
       "1  [840386, 889774, 898068, 909714, 929067, 95347...  \n",
       "2  [6534178, 1104146, 829197, 840361, 862070, 884...  \n",
       "3                       [1062973, 1082185, 13007710]  \n",
       "4  [831628, 907877, 914697, 995242, 1118878, 1128...  "
      ]
     },
     "execution_count": 83,
     "metadata": {},
     "output_type": "execute_result"
    }
   ],
   "source": [
    "data_check_.head()"
   ]
  },
  {
   "cell_type": "markdown",
   "metadata": {},
   "source": [
    "precision@5 модели 2-ого уровня"
   ]
  },
  {
   "cell_type": "code",
   "execution_count": 84,
   "metadata": {
    "scrolled": true
   },
   "outputs": [
    {
     "data": {
      "text/plain": [
       "0.29197368421052633"
      ]
     },
     "execution_count": 84,
     "metadata": {},
     "output_type": "execute_result"
    }
   ],
   "source": [
    "data_check_.apply(lambda x:precision_at_k(x['pred_lgbm'],x['actual'],k=5),axis=1).mean()"
   ]
  },
  {
   "cell_type": "markdown",
   "metadata": {},
   "source": [
    "Можно сказать, что на 2-х уровненвой модели метрика улучшилась"
   ]
  },
  {
   "cell_type": "markdown",
   "metadata": {},
   "source": [
    "### Финальный проект\n",
    "\n",
    "Мы уже прошли всю необходимую теорию для финального проекта. Проект осуществляется на данных из вебинара (данные считаны в начале ДЗ).\n",
    "Рекомендуем вам **начать делать проект сразу после этого домашнего задания**\n",
    "- Целевая метрика - money precision@5. Порог для уcпешной сдачи проекта money precision@5 > 20%\n",
    "\n",
    "Бизнес ограничения в топ-5 товарах:\n",
    "- Для каждого юзера 5 рекомендаций (иногда модели могут возвращать < 5)\n",
    "- **2 новых товара** (юзер никогда не покупал)\n",
    "- **1 дорогой товар, > 7 долларов**\n",
    "- **Все товары из разных категорий** (категория - department)  \n",
    "- **Стоимость каждого рекомендованного товара > 1 доллара**  \n",
    "\n",
    "- Будет public тестовый датасет, на котором вы сможете измерять метрику\n",
    "- Также будет private тестовый датасет для измерения финального качества\n",
    "- НЕ обязательно использовать 2-ух уровневые рекоммендательные системы в проекте\n",
    "- Вы сдаете код проекта в виде github репозитория и .csv файл с рекомендациями. В .csv файле 2 столбца: user_id - (item_id1, item_id2, ..., item_id5)"
   ]
  }
 ],
 "metadata": {
  "kernelspec": {
   "display_name": "Python 3",
   "language": "python",
   "name": "python3"
  },
  "language_info": {
   "codemirror_mode": {
    "name": "ipython",
    "version": 3
   },
   "file_extension": ".py",
   "mimetype": "text/x-python",
   "name": "python",
   "nbconvert_exporter": "python",
   "pygments_lexer": "ipython3",
   "version": "3.7.4"
  }
 },
 "nbformat": 4,
 "nbformat_minor": 2
}
